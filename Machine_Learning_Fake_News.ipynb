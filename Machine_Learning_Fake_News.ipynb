{
  "nbformat": 4,
  "nbformat_minor": 0,
  "metadata": {
    "colab": {
      "provenance": [],
      "mount_file_id": "1ju1Qaehq30fAi1n84kKWIAJgNX-TfCWF",
      "authorship_tag": "ABX9TyOPOIKTkOxo5vbyQXG6VxQ1",
      "include_colab_link": true
    },
    "kernelspec": {
      "name": "python3",
      "display_name": "Python 3"
    },
    "language_info": {
      "name": "python"
    }
  },
  "cells": [
    {
      "cell_type": "markdown",
      "metadata": {
        "id": "view-in-github",
        "colab_type": "text"
      },
      "source": [
        "<a href=\"https://colab.research.google.com/github/andersonfs94/Identificador_Fake_News/blob/main/Machine_Learning_Fake_News.ipynb\" target=\"_parent\"><img src=\"https://colab.research.google.com/assets/colab-badge.svg\" alt=\"Open In Colab\"/></a>"
      ]
    },
    {
      "cell_type": "code",
      "source": [
        "import numpy as np\n",
        "import pandas as pd\n",
        "from sklearn.model_selection import train_test_split\n",
        "from sklearn.feature_extraction.text import TfidfVectorizer\n",
        "from sklearn.linear_model import PassiveAggressiveClassifier\n",
        "from sklearn.metrics import accuracy_score, confusion_matrix\n",
        "import matplotlib.pyplot as plt\n",
        "import seaborn as sns"
      ],
      "metadata": {
        "id": "IIgnFa0iXNTT"
      },
      "execution_count": 1,
      "outputs": []
    },
    {
      "cell_type": "code",
      "source": [
        "# Carregar os datasets de notícias verdadeiras e falsas\n",
        "# Load the datasets of true and fake news\n",
        "\n",
        "# URL do dataset de notícias verdadeiras\n",
        "# URL of the true news dataset\n",
        "url_dados_true = 'https://drive.google.com/uc?id=1fhKaGollQvFgly7GdCB3-Hw2Jy7j5YI9'\n",
        "\n",
        "# URL do dataset de notícias falsas\n",
        "# URL of the fake news dataset\n",
        "url_dados_fake = 'https://drive.google.com/uc?id=1ZYvxyyT1ppyiDjcz0s6jLVFC1Xj6Bzur'\n",
        "\n",
        "# Carregar o dataset de notícias verdadeiras\n",
        "# Load the true news dataset\n",
        "dados_true = pd.read_csv(url_dados_true)\n",
        "\n",
        "# Carregar o dataset de notícias falsas\n",
        "# Load the fake news dataset\n",
        "dados_fake = pd.read_csv(url_dados_fake)"
      ],
      "metadata": {
        "id": "38ovnwuUXbgZ"
      },
      "execution_count": 2,
      "outputs": []
    },
    {
      "cell_type": "code",
      "source": [
        "# Descrever os dados para entender a distribuição\n",
        "# Describe the data to understand the distribution\n",
        "print(dados_true.describe())"
      ],
      "metadata": {
        "id": "EL3J57ESYBI2",
        "colab": {
          "base_uri": "https://localhost:8080/"
        },
        "outputId": "dd42d83f-5f37-42a2-9cb2-eaac9465d512"
      },
      "execution_count": 3,
      "outputs": [
        {
          "output_type": "stream",
          "name": "stdout",
          "text": [
            "                                                    title  \\\n",
            "count                                               21417   \n",
            "unique                                              20826   \n",
            "top     Factbox: Trump fills top jobs for his administ...   \n",
            "freq                                                   14   \n",
            "\n",
            "                                                     text       subject  \\\n",
            "count                                               21417         21417   \n",
            "unique                                              21192             2   \n",
            "top     (Reuters) - Highlights for U.S. President Dona...  politicsNews   \n",
            "freq                                                    8         11272   \n",
            "\n",
            "                      date  \n",
            "count                21417  \n",
            "unique                 716  \n",
            "top     December 20, 2017   \n",
            "freq                   182  \n"
          ]
        }
      ]
    },
    {
      "cell_type": "code",
      "source": [
        "# Descrever os dados para entender a distribuição\n",
        "# Describe the data to understand the distribution\n",
        "print(dados_fake.describe())"
      ],
      "metadata": {
        "id": "wuiHDzcmYhYv",
        "colab": {
          "base_uri": "https://localhost:8080/"
        },
        "outputId": "fd685940-e62f-4ada-9b62-a261901e8a1b"
      },
      "execution_count": 4,
      "outputs": [
        {
          "output_type": "stream",
          "name": "stdout",
          "text": [
            "                                                    title   text subject  \\\n",
            "count                                               23481  23481   23481   \n",
            "unique                                              17903  17455       6   \n",
            "top     MEDIA IGNORES Time That Bill Clinton FIRED His...           News   \n",
            "freq                                                    6    626    9050   \n",
            "\n",
            "                date  \n",
            "count          23481  \n",
            "unique          1681  \n",
            "top     May 10, 2017  \n",
            "freq              46  \n"
          ]
        }
      ]
    },
    {
      "cell_type": "code",
      "source": [
        "# Adicionar uma coluna de label aos datasets\n",
        "# Add a label column to the datasets\n",
        "dados_true['label'] = 'REAL'\n",
        "dados_fake['label'] = 'FAKE'\n",
        "\n",
        "# Concatenar os datasets em um único dataframe e embaralhar os dados\n",
        "# Concatenate the datasets into a single dataframe and shuffle the data\n",
        "dados = pd.concat([dados_true, dados_fake])\n",
        "\n",
        "# Embaralha os dados e redefine o índice\n",
        "# Shuffle the data and reset the index\n",
        "dados = dados.sample(frac=1).reset_index().drop(columns=['index'])"
      ],
      "metadata": {
        "id": "L4OHjxvdXm94"
      },
      "execution_count": 5,
      "outputs": []
    },
    {
      "cell_type": "code",
      "source": [
        "# Verificar a forma do DataFrame\n",
        "# Check the shape of the DataFrame\n",
        "print(dados.shape)\n",
        "# Exibe o número de linhas e colunas do DataFrame\n",
        "# Displays the number of rows and columns in the DataFrame"
      ],
      "metadata": {
        "id": "aR-FkwFRZ8-V",
        "colab": {
          "base_uri": "https://localhost:8080/"
        },
        "outputId": "2e19a847-d357-440a-ea75-ece8b4a1b0e4"
      },
      "execution_count": 6,
      "outputs": [
        {
          "output_type": "stream",
          "name": "stdout",
          "text": [
            "(44898, 5)\n"
          ]
        }
      ]
    },
    {
      "cell_type": "code",
      "source": [
        "# Visualizar as primeiras linhas do dataset unificado\n",
        "# View the first few rows of the unified dataset\n",
        "print(dados.head())"
      ],
      "metadata": {
        "id": "ZHdB2JHuYDi4",
        "colab": {
          "base_uri": "https://localhost:8080/"
        },
        "outputId": "b68593a9-89e7-4357-aa17-a7776f09f8eb"
      },
      "execution_count": 7,
      "outputs": [
        {
          "output_type": "stream",
          "name": "stdout",
          "text": [
            "                                               title  \\\n",
            "0  TRUMP KICKS Pro-Amnesty, Globalist Koch Brothe...   \n",
            "1  California Senator Dianne Feinstein to face De...   \n",
            "2   Nazi-Ranting Man Accosts MSNBC Host At Iowa C...   \n",
            "3  DON’T BELIEVE THE POLLS: Massive Silent Majori...   \n",
            "4  SAY WHAT? Trump-Hater, RINO John McCain Admits...   \n",
            "\n",
            "                                                text       subject  \\\n",
            "0  President-elect Donald Trump told a critical b...     left-news   \n",
            "1  (Reuters) - Democrat Kevin de Leon, president ...  politicsNews   \n",
            "2  A man ranting about Nazi Germany had a strange...          News   \n",
            "3  So many acts of violence and vandalism have be...      politics   \n",
            "4  Sworn Donald Trump enemy John McCain admitted ...     left-news   \n",
            "\n",
            "                date label  \n",
            "0        Jan 2, 2017  FAKE  \n",
            "1  October 15, 2017   REAL  \n",
            "2   February 2, 2016  FAKE  \n",
            "3       Oct 23, 2016  FAKE  \n",
            "4       Jan 11, 2017  FAKE  \n"
          ]
        }
      ]
    },
    {
      "cell_type": "code",
      "source": [
        "# Separar as labels (rótulos)\n",
        "# Separate the labels (targets)\n",
        "rotulo = dados.label\n",
        "\n",
        "# Exibe as primeiras linhas dos rótulos para uma visão geral\n",
        "# Displays the first few rows of the labels for an overview\n",
        "print(rotulo.head())"
      ],
      "metadata": {
        "id": "qwmaUhNBa3rj",
        "colab": {
          "base_uri": "https://localhost:8080/"
        },
        "outputId": "def40f3e-a8c5-4b5c-eb8d-8c74adcea267"
      },
      "execution_count": 8,
      "outputs": [
        {
          "output_type": "stream",
          "name": "stdout",
          "text": [
            "0    FAKE\n",
            "1    REAL\n",
            "2    FAKE\n",
            "3    FAKE\n",
            "4    FAKE\n",
            "Name: label, dtype: object\n"
          ]
        }
      ]
    },
    {
      "cell_type": "code",
      "source": [
        "# Dividindo os dados em treino e teste. Sendo a variável x o texto dos dados e a variável y o rótulo com as informações de verdadeiro/falso.\n",
        "# As we are dealing with supervised learning, it's necessary to have the labels in the data.\n",
        "# Splitting the data into training and testing sets. The variable x contains the text data, and the variable y contains the labels with true/false information.\n",
        "\n",
        "x_train, x_test, y_train, y_test = train_test_split(dados['text'], rotulo, test_size=0.3, random_state=7)\n",
        "# Divide the data into training and testing sets, with 30% of the data used for testing and a random seed for reproducibility\n"
      ],
      "metadata": {
        "id": "0vqYiecybNzY"
      },
      "execution_count": 9,
      "outputs": []
    },
    {
      "cell_type": "markdown",
      "source": [
        "# Passive Aggressive Classifier"
      ],
      "metadata": {
        "id": "EwyUwyE6qfsT"
      }
    },
    {
      "cell_type": "code",
      "source": [
        "# Converter os textos em uma matriz TF-IDF\n",
        "# Convert the texts into a TF-IDF matrix\n",
        "\n",
        "tfidf_vectorizer = TfidfVectorizer(stop_words='english', max_df=0.7)\n",
        "# Cria um vetor TF-IDF, ignorando palavras comuns em inglês (stop words) e ignorando termos que aparecem em mais de 70% dos documentos\n",
        "# Create a TF-IDF vectorizer, ignoring common English stop words and terms that appear in more than 70% of the documents\n",
        "\n",
        "tfidf_train = tfidf_vectorizer.fit_transform(x_train)\n",
        "# Aplica o vetor TF-IDF nos dados de treino, ajustando o vocabulário e transformando os textos em uma matriz TF-IDF\n",
        "# Apply the TF-IDF vectorizer to the training data, fitting the vocabulary and transforming the texts into a TF-IDF matrix\n",
        "\n",
        "tfidf_test = tfidf_vectorizer.transform(x_test)\n",
        "# Aplica o vetor TF-IDF nos dados de teste usando o vocabulário ajustado durante o treino\n",
        "# Apply the TF-IDF vectorizer to the test data using the vocabulary learned from the training data\n"
      ],
      "metadata": {
        "id": "jgIFg3XShIYP"
      },
      "execution_count": 10,
      "outputs": []
    },
    {
      "cell_type": "code",
      "source": [
        "# Treinar o modelo de classificação Passive Aggressive\n",
        "# Train the Passive Aggressive classifier model\n",
        "\n",
        "pac = PassiveAggressiveClassifier(max_iter=50)\n",
        "# Cria um classificador Passive Aggressive com um número máximo de 50 iterações\n",
        "# Create a Passive Aggressive classifier with a maximum of 50 iterations\n",
        "\n",
        "pac.fit(tfidf_train, y_train)\n",
        "# Treina o modelo usando os dados de treino TF-IDF e os rótulos correspondentes\n",
        "# Train the model using the TF-IDF training data and the corresponding labels\n"
      ],
      "metadata": {
        "id": "YqOlVWQ8jiI9",
        "colab": {
          "base_uri": "https://localhost:8080/",
          "height": 75
        },
        "outputId": "0e54f23b-294c-4567-aed9-ed30177a8611"
      },
      "execution_count": 11,
      "outputs": [
        {
          "output_type": "execute_result",
          "data": {
            "text/plain": [
              "PassiveAggressiveClassifier(max_iter=50)"
            ],
            "text/html": [
              "<style>#sk-container-id-1 {color: black;}#sk-container-id-1 pre{padding: 0;}#sk-container-id-1 div.sk-toggleable {background-color: white;}#sk-container-id-1 label.sk-toggleable__label {cursor: pointer;display: block;width: 100%;margin-bottom: 0;padding: 0.3em;box-sizing: border-box;text-align: center;}#sk-container-id-1 label.sk-toggleable__label-arrow:before {content: \"▸\";float: left;margin-right: 0.25em;color: #696969;}#sk-container-id-1 label.sk-toggleable__label-arrow:hover:before {color: black;}#sk-container-id-1 div.sk-estimator:hover label.sk-toggleable__label-arrow:before {color: black;}#sk-container-id-1 div.sk-toggleable__content {max-height: 0;max-width: 0;overflow: hidden;text-align: left;background-color: #f0f8ff;}#sk-container-id-1 div.sk-toggleable__content pre {margin: 0.2em;color: black;border-radius: 0.25em;background-color: #f0f8ff;}#sk-container-id-1 input.sk-toggleable__control:checked~div.sk-toggleable__content {max-height: 200px;max-width: 100%;overflow: auto;}#sk-container-id-1 input.sk-toggleable__control:checked~label.sk-toggleable__label-arrow:before {content: \"▾\";}#sk-container-id-1 div.sk-estimator input.sk-toggleable__control:checked~label.sk-toggleable__label {background-color: #d4ebff;}#sk-container-id-1 div.sk-label input.sk-toggleable__control:checked~label.sk-toggleable__label {background-color: #d4ebff;}#sk-container-id-1 input.sk-hidden--visually {border: 0;clip: rect(1px 1px 1px 1px);clip: rect(1px, 1px, 1px, 1px);height: 1px;margin: -1px;overflow: hidden;padding: 0;position: absolute;width: 1px;}#sk-container-id-1 div.sk-estimator {font-family: monospace;background-color: #f0f8ff;border: 1px dotted black;border-radius: 0.25em;box-sizing: border-box;margin-bottom: 0.5em;}#sk-container-id-1 div.sk-estimator:hover {background-color: #d4ebff;}#sk-container-id-1 div.sk-parallel-item::after {content: \"\";width: 100%;border-bottom: 1px solid gray;flex-grow: 1;}#sk-container-id-1 div.sk-label:hover label.sk-toggleable__label {background-color: #d4ebff;}#sk-container-id-1 div.sk-serial::before {content: \"\";position: absolute;border-left: 1px solid gray;box-sizing: border-box;top: 0;bottom: 0;left: 50%;z-index: 0;}#sk-container-id-1 div.sk-serial {display: flex;flex-direction: column;align-items: center;background-color: white;padding-right: 0.2em;padding-left: 0.2em;position: relative;}#sk-container-id-1 div.sk-item {position: relative;z-index: 1;}#sk-container-id-1 div.sk-parallel {display: flex;align-items: stretch;justify-content: center;background-color: white;position: relative;}#sk-container-id-1 div.sk-item::before, #sk-container-id-1 div.sk-parallel-item::before {content: \"\";position: absolute;border-left: 1px solid gray;box-sizing: border-box;top: 0;bottom: 0;left: 50%;z-index: -1;}#sk-container-id-1 div.sk-parallel-item {display: flex;flex-direction: column;z-index: 1;position: relative;background-color: white;}#sk-container-id-1 div.sk-parallel-item:first-child::after {align-self: flex-end;width: 50%;}#sk-container-id-1 div.sk-parallel-item:last-child::after {align-self: flex-start;width: 50%;}#sk-container-id-1 div.sk-parallel-item:only-child::after {width: 0;}#sk-container-id-1 div.sk-dashed-wrapped {border: 1px dashed gray;margin: 0 0.4em 0.5em 0.4em;box-sizing: border-box;padding-bottom: 0.4em;background-color: white;}#sk-container-id-1 div.sk-label label {font-family: monospace;font-weight: bold;display: inline-block;line-height: 1.2em;}#sk-container-id-1 div.sk-label-container {text-align: center;}#sk-container-id-1 div.sk-container {/* jupyter's `normalize.less` sets `[hidden] { display: none; }` but bootstrap.min.css set `[hidden] { display: none !important; }` so we also need the `!important` here to be able to override the default hidden behavior on the sphinx rendered scikit-learn.org. See: https://github.com/scikit-learn/scikit-learn/issues/21755 */display: inline-block !important;position: relative;}#sk-container-id-1 div.sk-text-repr-fallback {display: none;}</style><div id=\"sk-container-id-1\" class=\"sk-top-container\"><div class=\"sk-text-repr-fallback\"><pre>PassiveAggressiveClassifier(max_iter=50)</pre><b>In a Jupyter environment, please rerun this cell to show the HTML representation or trust the notebook. <br />On GitHub, the HTML representation is unable to render, please try loading this page with nbviewer.org.</b></div><div class=\"sk-container\" hidden><div class=\"sk-item\"><div class=\"sk-estimator sk-toggleable\"><input class=\"sk-toggleable__control sk-hidden--visually\" id=\"sk-estimator-id-1\" type=\"checkbox\" checked><label for=\"sk-estimator-id-1\" class=\"sk-toggleable__label sk-toggleable__label-arrow\">PassiveAggressiveClassifier</label><div class=\"sk-toggleable__content\"><pre>PassiveAggressiveClassifier(max_iter=50)</pre></div></div></div></div></div>"
            ]
          },
          "metadata": {},
          "execution_count": 11
        }
      ]
    },
    {
      "cell_type": "code",
      "source": [
        "# Fazer previsões no conjunto de teste\n",
        "# Make predictions on the test set\n",
        "y_pred = pac.predict(tfidf_test)\n",
        "\n",
        "score = accuracy_score(y_test, y_pred)\n",
        "# Calcula a acurácia comparando as previsões do modelo com os rótulos reais do conjunto de teste\n",
        "# Compute the accuracy by comparing the model's predictions with the true labels of the test set\n",
        "\n",
        "print(f'Precisão do Passive Aggressive Classifier: {round(score*100,2)}%')\n",
        "# Exibe a precisão do classificador Passive Aggressive em porcentagem\n",
        "# Display the accuracy of the Passive Aggressive Classifier as a percentage"
      ],
      "metadata": {
        "id": "nK0lejAJjq5B",
        "colab": {
          "base_uri": "https://localhost:8080/"
        },
        "outputId": "6b26652d-40cd-43c8-fb1c-f115efa28e87"
      },
      "execution_count": 12,
      "outputs": [
        {
          "output_type": "stream",
          "name": "stdout",
          "text": [
            "Precisão do Passive Aggressive Classifier: 99.24%\n"
          ]
        }
      ]
    },
    {
      "cell_type": "code",
      "source": [
        "cf_matrix = confusion_matrix(y_test, y_pred, labels=['FAKE', 'REAL'])\n",
        "# Cria a matriz de confusão comparando as previsões do modelo com os rótulos reais do conjunto de teste\n",
        "# Create the confusion matrix by comparing the model's predictions with the true labels of the test set\n",
        "\n",
        "print(cf_matrix)\n",
        "# Exibe a matriz de confusão\n",
        "# Display the confusion matrix"
      ],
      "metadata": {
        "id": "P2vm0SrQjzBe",
        "colab": {
          "base_uri": "https://localhost:8080/"
        },
        "outputId": "7af66ba5-67d3-479a-9131-092b2224b476"
      },
      "execution_count": 13,
      "outputs": [
        {
          "output_type": "stream",
          "name": "stdout",
          "text": [
            "[[6888   45]\n",
            " [  57 6480]]\n"
          ]
        }
      ]
    },
    {
      "cell_type": "code",
      "source": [
        "# Visualizar a matriz de confusão usando Seaborn\n",
        "# Visualize the confusion matrix using Seaborn\n",
        "\n",
        "ax = sns.heatmap(cf_matrix / np.sum(cf_matrix), annot=True, fmt='.2%', cmap='BuGn')\n",
        "# Cria um gráfico de calor da matriz de confusão normalizada usando a biblioteca Seaborn\n",
        "# Creates a heatmap of the normalized confusion matrix using the Seaborn library\n",
        "\n",
        "ax.set_title('Matriz de Erro com Rótulos\\n\\n')\n",
        "# Define o título do gráfico\n",
        "# Set the title of the plot\n",
        "\n",
        "ax.set_xlabel('\\nValores Esperados')\n",
        "# Define o rótulo do eixo x\n",
        "# Set the label for the x-axis\n",
        "\n",
        "ax.set_ylabel('Valores Reais')\n",
        "# Define o rótulo do eixo y\n",
        "# Set the label for the y-axis\n",
        "\n",
        "ax.xaxis.set_ticklabels(['Falsa', 'Real'])\n",
        "# Define os rótulos dos ticks no eixo x\n",
        "# Set the tick labels for the x-axis\n",
        "\n",
        "ax.yaxis.set_ticklabels(['Falsa', 'Real'])\n",
        "# Define os rótulos dos ticks no eixo y\n",
        "# Set the tick labels for the y-axis\n",
        "\n",
        "plt.show()\n",
        "# Exibe o gráfico\n",
        "# Display the plot\n"
      ],
      "metadata": {
        "colab": {
          "base_uri": "https://localhost:8080/",
          "height": 530
        },
        "id": "61wC0XXKeBou",
        "outputId": "f86a6923-3971-4ec8-e6bd-10aa6f9955c7"
      },
      "execution_count": 14,
      "outputs": [
        {
          "output_type": "display_data",
          "data": {
            "text/plain": [
              "<Figure size 640x480 with 2 Axes>"
            ],
            "image/png": "[encoded data removed]"
          },
          "metadata": {}
        }
      ]
    }
  ]
}