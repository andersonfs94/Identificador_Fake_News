{
  "nbformat": 4,
  "nbformat_minor": 0,
  "metadata": {
    "colab": {
      "provenance": [],
      "mount_file_id": "1ju1Qaehq30fAi1n84kKWIAJgNX-TfCWF",
      "authorship_tag": "ABX9TyPLKavgiRgTAMyFuC6XZ/Cb",
      "include_colab_link": true
    },
    "kernelspec": {
      "name": "python3",
      "display_name": "Python 3"
    },
    "language_info": {
      "name": "python"
    }
  },
  "cells": [
    {
      "cell_type": "markdown",
      "metadata": {
        "id": "view-in-github",
        "colab_type": "text"
      },
      "source": [
        "<a href=\"https://colab.research.google.com/github/andersonfs94/Identificador_Fake_News/blob/main/Machine_Learning_Fake_News.ipynb\" target=\"_parent\"><img src=\"https://colab.research.google.com/assets/colab-badge.svg\" alt=\"Open In Colab\"/></a>"
      ]
    },
    {
      "cell_type": "code",
      "source": [
        "import numpy as np\n",
        "import pandas as pd\n",
        "from sklearn.model_selection import train_test_split\n",
        "from sklearn.feature_extraction.text import TfidfVectorizer\n",
        "from sklearn.linear_model import PassiveAggressiveClassifier\n",
        "from sklearn.metrics import accuracy_score, confusion_matrix\n",
        "import matplotlib.pyplot as plt"
      ],
      "metadata": {
        "id": "IIgnFa0iXNTT"
      },
      "execution_count": null,
      "outputs": []
    },
    {
      "cell_type": "code",
      "source": [
        "# Carregar os datasets de notícias verdadeiras e falsas\n",
        "dados_true = pd.read_csv('/content/drive/MyDrive/Dataset/True.csv')\n",
        "dados_fake = pd.read_csv('/content/drive/MyDrive/Dataset/Fake.csv')"
      ],
      "metadata": {
        "id": "38ovnwuUXbgZ"
      },
      "execution_count": null,
      "outputs": []
    },
    {
      "cell_type": "code",
      "source": [
        "# Descrever os dados para entender a distribuição\n",
        "dados_true.describe()"
      ],
      "metadata": {
        "id": "EL3J57ESYBI2"
      },
      "execution_count": null,
      "outputs": []
    },
    {
      "cell_type": "code",
      "source": [
        "# Descrever os dados para entender a distribuição\n",
        "dados_fake.describe()"
      ],
      "metadata": {
        "id": "wuiHDzcmYhYv"
      },
      "execution_count": null,
      "outputs": []
    },
    {
      "cell_type": "code",
      "source": [
        "# Adicionar uma coluna de label aos datasets\n",
        "dados_true['label'] = ['Real']*len(dados_true)\n",
        "dados_fake['label'] = ['Fake']*len(dados_fake)\n",
        "\n",
        "# Concatenar os datasets em um único dataframe e embaralhar os dados\n",
        "dados = dados_true.append(dados_fake).sample(frac=1).reset_index().drop(columns=['index']) #Reinicia o índice"
      ],
      "metadata": {
        "id": "L4OHjxvdXm94"
      },
      "execution_count": null,
      "outputs": []
    },
    {
      "cell_type": "code",
      "source": [
        "# Visualizar as primeiras linhas do dataset unificado\n",
        "dados.head()"
      ],
      "metadata": {
        "id": "ZHdB2JHuYDi4"
      },
      "execution_count": null,
      "outputs": []
    },
    {
      "cell_type": "code",
      "source": [
        "# Verificar a forma do DataFrame\n",
        "dados.shape"
      ],
      "metadata": {
        "id": "aR-FkwFRZ8-V"
      },
      "execution_count": null,
      "outputs": []
    },
    {
      "cell_type": "code",
      "source": [
        "# Separar as labels (rótulos)\n",
        "rotulo = dados.label\n",
        "rotulo.head()"
      ],
      "metadata": {
        "id": "qwmaUhNBa3rj"
      },
      "execution_count": null,
      "outputs": []
    },
    {
      "cell_type": "code",
      "source": [
        "#Dividindo os dados em treino e teste. Sendo a variável x o texto dos dados e a variável y o rotulo com as informações de verdadeiro/falso.\n",
        "#Como é um aprendizado supervisionado, é necessário ter a resposta nos dados.\n",
        "x_train,x_test,y_train,y_test=train_test_split(dados['text'], rotulo, test_size=0.3, random_state=7)"
      ],
      "metadata": {
        "id": "0vqYiecybNzY"
      },
      "execution_count": null,
      "outputs": []
    },
    {
      "cell_type": "markdown",
      "source": [
        "# Passive Aggressive Classifier"
      ],
      "metadata": {
        "id": "EwyUwyE6qfsT"
      }
    },
    {
      "cell_type": "code",
      "source": [
        "tfidf_vectorizer=TfidfVectorizer(stop_words='english', max_df=0.7)"
      ],
      "metadata": {
        "id": "jgIFg3XShIYP"
      },
      "execution_count": null,
      "outputs": []
    },
    {
      "cell_type": "code",
      "source": [
        "tfidf_train=tfidf_vectorizer.fit_transform(x_train)\n",
        "tfidf_test=tfidf_vectorizer.transform(x_test)"
      ],
      "metadata": {
        "id": "YH3GmhpejZjJ"
      },
      "execution_count": null,
      "outputs": []
    },
    {
      "cell_type": "code",
      "source": [
        "pac=PassiveAggressiveClassifier(max_iter=50)\n",
        "pac.fit(tfidf_train,y_train)"
      ],
      "metadata": {
        "id": "YqOlVWQ8jiI9"
      },
      "execution_count": null,
      "outputs": []
    },
    {
      "cell_type": "code",
      "source": [
        "y_pred=pac.predict(tfidf_test)\n",
        "score=accuracy_score(y_test,y_pred)\n",
        "print(f'Precisão do Passive Aggressive Classifier: {round(score*100,2)}%')"
      ],
      "metadata": {
        "id": "nK0lejAJjq5B"
      },
      "execution_count": null,
      "outputs": []
    },
    {
      "cell_type": "code",
      "source": [
        "cf_matrix = confusion_matrix(y_test,y_pred, labels=['Fake','True'])"
      ],
      "metadata": {
        "id": "P2vm0SrQjzBe"
      },
      "execution_count": null,
      "outputs": []
    },
    {
      "cell_type": "code",
      "source": [
        "cf_matrix"
      ],
      "metadata": {
        "id": "81WHRU40nL6-"
      },
      "execution_count": null,
      "outputs": []
    },
    {
      "cell_type": "code",
      "source": [
        "#Matriz de Erro\n",
        "import seaborn as sns\n",
        "ax = sns.heatmap(cf_matrix/np.sum(cf_matrix), annot=True, fmt='.2%', cmap='BuGn')\n",
        "\n",
        "ax.set_title('Matriz de erro com rótulos\\n\\n')\n",
        "ax.set_xlabel('\\nValores esperados')\n",
        "ax.set_ylabel('Valores reais ')\n",
        "\n",
        "ax.xaxis.set_ticklabels(['Falsa','Real'])\n",
        "ax.yaxis.set_ticklabels(['Falsa','Real'])\n",
        "\n",
        "plt.show()"
      ],
      "metadata": {
        "colab": {
          "base_uri": "https://localhost:8080/",
          "height": 337
        },
        "id": "fXh1NGaeln4Z",
        "outputId": "0f9b9022-5814-487e-d0a2-1570da5bad91"
      },
      "execution_count": null,
      "outputs": [
        {
          "output_type": "display_data",
          "data": {
            "text/plain": [
              "<Figure size 432x288 with 2 Axes>"
            ],
            "image/png": "[encoded data removed]"
          },
          "metadata": {
            "needs_background": "light"
          }
        }
      ]
    }
  ]
}