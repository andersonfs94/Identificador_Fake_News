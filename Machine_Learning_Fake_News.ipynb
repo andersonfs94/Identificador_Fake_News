{
  "nbformat": 4,
  "nbformat_minor": 0,
  "metadata": {
    "colab": {
      "provenance": [],
      "mount_file_id": "1ju1Qaehq30fAi1n84kKWIAJgNX-TfCWF",
      "authorship_tag": "ABX9TyOOUznsLVJ65NMtZ/dUV/gz",
      "include_colab_link": true
    },
    "kernelspec": {
      "name": "python3",
      "display_name": "Python 3"
    },
    "language_info": {
      "name": "python"
    }
  },
  "cells": [
    {
      "cell_type": "markdown",
      "metadata": {
        "id": "view-in-github",
        "colab_type": "text"
      },
      "source": [
        "<a href=\"https://colab.research.google.com/github/andersonfs94/Identificador_Fake_News/blob/main/Machine_Learning_Fake_News.ipynb\" target=\"_parent\"><img src=\"https://colab.research.google.com/assets/colab-badge.svg\" alt=\"Open In Colab\"/></a>"
      ]
    },
    {
      "cell_type": "code",
      "source": [
        "import numpy as np\n",
        "import pandas as pd\n",
        "from sklearn.model_selection import train_test_split\n",
        "from sklearn.feature_extraction.text import TfidfVectorizer\n",
        "from sklearn.linear_model import PassiveAggressiveClassifier\n",
        "from sklearn.metrics import accuracy_score, confusion_matrix\n",
        "import matplotlib.pyplot as plt\n",
        "import seaborn as sns"
      ],
      "metadata": {
        "id": "IIgnFa0iXNTT"
      },
      "execution_count": 36,
      "outputs": []
    },
    {
      "cell_type": "code",
      "source": [
        "# Carregar os datasets de notícias verdadeiras e falsas\n",
        "dados_true = pd.read_csv('/content/drive/MyDrive/Dataset/True.csv')\n",
        "dados_fake = pd.read_csv('/content/drive/MyDrive/Dataset/Fake.csv')"
      ],
      "metadata": {
        "id": "38ovnwuUXbgZ"
      },
      "execution_count": 37,
      "outputs": []
    },
    {
      "cell_type": "code",
      "source": [
        "# Descrever os dados para entender a distribuição\n",
        "print(dados_true.describe())"
      ],
      "metadata": {
        "id": "EL3J57ESYBI2",
        "colab": {
          "base_uri": "https://localhost:8080/"
        },
        "outputId": "0b9fb5d3-6548-4339-937d-28645887485d"
      },
      "execution_count": 39,
      "outputs": [
        {
          "output_type": "stream",
          "name": "stdout",
          "text": [
            "                                                    title  \\\n",
            "count                                               21417   \n",
            "unique                                              20826   \n",
            "top     Factbox: Trump fills top jobs for his administ...   \n",
            "freq                                                   14   \n",
            "\n",
            "                                                     text       subject  \\\n",
            "count                                               21417         21417   \n",
            "unique                                              21192             2   \n",
            "top     (Reuters) - Highlights for U.S. President Dona...  politicsNews   \n",
            "freq                                                    8         11272   \n",
            "\n",
            "                      date  \n",
            "count                21417  \n",
            "unique                 716  \n",
            "top     December 20, 2017   \n",
            "freq                   182  \n"
          ]
        }
      ]
    },
    {
      "cell_type": "code",
      "source": [
        "# Descrever os dados para entender a distribuição\n",
        "print(dados_fake.describe())"
      ],
      "metadata": {
        "id": "wuiHDzcmYhYv",
        "colab": {
          "base_uri": "https://localhost:8080/"
        },
        "outputId": "f8508759-2115-4175-c4d0-3f98598faf57"
      },
      "execution_count": 40,
      "outputs": [
        {
          "output_type": "stream",
          "name": "stdout",
          "text": [
            "                                                    title   text subject  \\\n",
            "count                                               23481  23481   23481   \n",
            "unique                                              17903  17455       6   \n",
            "top     MEDIA IGNORES Time That Bill Clinton FIRED His...           News   \n",
            "freq                                                    6    626    9050   \n",
            "\n",
            "                date  \n",
            "count          23481  \n",
            "unique          1681  \n",
            "top     May 10, 2017  \n",
            "freq              46  \n"
          ]
        }
      ]
    },
    {
      "cell_type": "code",
      "source": [
        "# Adicionar uma coluna de label aos datasets\n",
        "dados_true['label'] = 'REAL'\n",
        "dados_fake['label'] = 'FAKE'\n",
        "\n",
        "# Concatenar os datasets em um único dataframe e embaralhar os dados\n",
        "dados = pd.concat([dados_true, dados_fake]).sample(frac=1).reset_index().drop(columns=['index'])"
      ],
      "metadata": {
        "id": "L4OHjxvdXm94"
      },
      "execution_count": 41,
      "outputs": []
    },
    {
      "cell_type": "code",
      "source": [
        "# Verificar a forma do DataFrame\n",
        "print(dados.shape)"
      ],
      "metadata": {
        "id": "aR-FkwFRZ8-V",
        "colab": {
          "base_uri": "https://localhost:8080/"
        },
        "outputId": "412ea151-c88d-42d5-b093-6a4cf5d6c9d9"
      },
      "execution_count": 42,
      "outputs": [
        {
          "output_type": "stream",
          "name": "stdout",
          "text": [
            "(44898, 5)\n"
          ]
        }
      ]
    },
    {
      "cell_type": "code",
      "source": [
        "# Visualizar as primeiras linhas do dataset unificado\n",
        "print(dados.head())"
      ],
      "metadata": {
        "id": "ZHdB2JHuYDi4",
        "colab": {
          "base_uri": "https://localhost:8080/"
        },
        "outputId": "c58f8232-50ee-42bf-fb80-2aabe5780c1e"
      },
      "execution_count": 43,
      "outputs": [
        {
          "output_type": "stream",
          "name": "stdout",
          "text": [
            "                                               title  \\\n",
            "0  MUSLIM IMMIGRANT BEATS 22-Term MN Democrat…Tha...   \n",
            "1  BILLIONAIRE, Leftist Author Of Harry Potter Bo...   \n",
            "2  Hillary’s Secret Weapon: Evan McMullin is CIA-...   \n",
            "3  Nigeria's Buhari to visit heartland of Biafra ...   \n",
            "4  PRESIDENT TRUMP Makes Room Erupt in Laughter w...   \n",
            "\n",
            "                                                text      subject  \\\n",
            "0  The number of Muslim registered voters is up 3...    left-news   \n",
            "1  Big-mouth billionaire and leftist author of th...     politics   \n",
            "2  J.R. Smith 21st Century WireMuch has been made...  Middle-east   \n",
            "3  ABUJA (Reuters) - President Muhammadu Buhari i...    worldnews   \n",
            "4  President Trump spoke at the State Banquet dur...     politics   \n",
            "\n",
            "                 date label  \n",
            "0        Aug 13, 2016  FAKE  \n",
            "1         Aug 1, 2017  FAKE  \n",
            "2    October 31, 2016  FAKE  \n",
            "3  November 13, 2017   REAL  \n",
            "4        Nov 11, 2017  FAKE  \n"
          ]
        }
      ]
    },
    {
      "cell_type": "code",
      "source": [
        "# Separar as labels (rótulos)\n",
        "rotulo = dados.label\n",
        "print(rotulo.head())"
      ],
      "metadata": {
        "id": "qwmaUhNBa3rj",
        "colab": {
          "base_uri": "https://localhost:8080/"
        },
        "outputId": "cea2e033-5e5e-4f57-b913-1b8ec6596c9f"
      },
      "execution_count": 44,
      "outputs": [
        {
          "output_type": "stream",
          "name": "stdout",
          "text": [
            "0    FAKE\n",
            "1    FAKE\n",
            "2    FAKE\n",
            "3    REAL\n",
            "4    FAKE\n",
            "Name: label, dtype: object\n"
          ]
        }
      ]
    },
    {
      "cell_type": "code",
      "source": [
        "#Dividindo os dados em treino e teste. Sendo a variável x o texto dos dados e a variável y o rotulo com as informações de verdadeiro/falso.\n",
        "#Como é um aprendizado supervisionado, é necessário ter a resposta nos dados.\n",
        "x_train, x_test, y_train, y_test = train_test_split(dados['text'], rotulo, test_size=0.3, random_state=7)"
      ],
      "metadata": {
        "id": "0vqYiecybNzY"
      },
      "execution_count": 45,
      "outputs": []
    },
    {
      "cell_type": "markdown",
      "source": [
        "# Passive Aggressive Classifier"
      ],
      "metadata": {
        "id": "EwyUwyE6qfsT"
      }
    },
    {
      "cell_type": "code",
      "source": [
        "# Converter os textos em uma matriz TF-IDF\n",
        "tfidf_vectorizer = TfidfVectorizer(stop_words='english', max_df=0.7)\n",
        "tfidf_train = tfidf_vectorizer.fit_transform(x_train)\n",
        "tfidf_test = tfidf_vectorizer.transform(x_test)"
      ],
      "metadata": {
        "id": "jgIFg3XShIYP"
      },
      "execution_count": 46,
      "outputs": []
    },
    {
      "cell_type": "code",
      "source": [
        "# Treinar o modelo de classificação Passive Aggressive\n",
        "pac = PassiveAggressiveClassifier(max_iter=50)\n",
        "pac.fit(tfidf_train, y_train)"
      ],
      "metadata": {
        "id": "YqOlVWQ8jiI9",
        "colab": {
          "base_uri": "https://localhost:8080/",
          "height": 75
        },
        "outputId": "5a002c02-8f68-40a5-ac3f-6150d873c714"
      },
      "execution_count": 47,
      "outputs": [
        {
          "output_type": "execute_result",
          "data": {
            "text/plain": [
              "PassiveAggressiveClassifier(max_iter=50)"
            ],
            "text/html": [
              "<style>#sk-container-id-4 {color: black;background-color: white;}#sk-container-id-4 pre{padding: 0;}#sk-container-id-4 div.sk-toggleable {background-color: white;}#sk-container-id-4 label.sk-toggleable__label {cursor: pointer;display: block;width: 100%;margin-bottom: 0;padding: 0.3em;box-sizing: border-box;text-align: center;}#sk-container-id-4 label.sk-toggleable__label-arrow:before {content: \"▸\";float: left;margin-right: 0.25em;color: #696969;}#sk-container-id-4 label.sk-toggleable__label-arrow:hover:before {color: black;}#sk-container-id-4 div.sk-estimator:hover label.sk-toggleable__label-arrow:before {color: black;}#sk-container-id-4 div.sk-toggleable__content {max-height: 0;max-width: 0;overflow: hidden;text-align: left;background-color: #f0f8ff;}#sk-container-id-4 div.sk-toggleable__content pre {margin: 0.2em;color: black;border-radius: 0.25em;background-color: #f0f8ff;}#sk-container-id-4 input.sk-toggleable__control:checked~div.sk-toggleable__content {max-height: 200px;max-width: 100%;overflow: auto;}#sk-container-id-4 input.sk-toggleable__control:checked~label.sk-toggleable__label-arrow:before {content: \"▾\";}#sk-container-id-4 div.sk-estimator input.sk-toggleable__control:checked~label.sk-toggleable__label {background-color: #d4ebff;}#sk-container-id-4 div.sk-label input.sk-toggleable__control:checked~label.sk-toggleable__label {background-color: #d4ebff;}#sk-container-id-4 input.sk-hidden--visually {border: 0;clip: rect(1px 1px 1px 1px);clip: rect(1px, 1px, 1px, 1px);height: 1px;margin: -1px;overflow: hidden;padding: 0;position: absolute;width: 1px;}#sk-container-id-4 div.sk-estimator {font-family: monospace;background-color: #f0f8ff;border: 1px dotted black;border-radius: 0.25em;box-sizing: border-box;margin-bottom: 0.5em;}#sk-container-id-4 div.sk-estimator:hover {background-color: #d4ebff;}#sk-container-id-4 div.sk-parallel-item::after {content: \"\";width: 100%;border-bottom: 1px solid gray;flex-grow: 1;}#sk-container-id-4 div.sk-label:hover label.sk-toggleable__label {background-color: #d4ebff;}#sk-container-id-4 div.sk-serial::before {content: \"\";position: absolute;border-left: 1px solid gray;box-sizing: border-box;top: 0;bottom: 0;left: 50%;z-index: 0;}#sk-container-id-4 div.sk-serial {display: flex;flex-direction: column;align-items: center;background-color: white;padding-right: 0.2em;padding-left: 0.2em;position: relative;}#sk-container-id-4 div.sk-item {position: relative;z-index: 1;}#sk-container-id-4 div.sk-parallel {display: flex;align-items: stretch;justify-content: center;background-color: white;position: relative;}#sk-container-id-4 div.sk-item::before, #sk-container-id-4 div.sk-parallel-item::before {content: \"\";position: absolute;border-left: 1px solid gray;box-sizing: border-box;top: 0;bottom: 0;left: 50%;z-index: -1;}#sk-container-id-4 div.sk-parallel-item {display: flex;flex-direction: column;z-index: 1;position: relative;background-color: white;}#sk-container-id-4 div.sk-parallel-item:first-child::after {align-self: flex-end;width: 50%;}#sk-container-id-4 div.sk-parallel-item:last-child::after {align-self: flex-start;width: 50%;}#sk-container-id-4 div.sk-parallel-item:only-child::after {width: 0;}#sk-container-id-4 div.sk-dashed-wrapped {border: 1px dashed gray;margin: 0 0.4em 0.5em 0.4em;box-sizing: border-box;padding-bottom: 0.4em;background-color: white;}#sk-container-id-4 div.sk-label label {font-family: monospace;font-weight: bold;display: inline-block;line-height: 1.2em;}#sk-container-id-4 div.sk-label-container {text-align: center;}#sk-container-id-4 div.sk-container {/* jupyter's `normalize.less` sets `[hidden] { display: none; }` but bootstrap.min.css set `[hidden] { display: none !important; }` so we also need the `!important` here to be able to override the default hidden behavior on the sphinx rendered scikit-learn.org. See: https://github.com/scikit-learn/scikit-learn/issues/21755 */display: inline-block !important;position: relative;}#sk-container-id-4 div.sk-text-repr-fallback {display: none;}</style><div id=\"sk-container-id-4\" class=\"sk-top-container\"><div class=\"sk-text-repr-fallback\"><pre>PassiveAggressiveClassifier(max_iter=50)</pre><b>In a Jupyter environment, please rerun this cell to show the HTML representation or trust the notebook. <br />On GitHub, the HTML representation is unable to render, please try loading this page with nbviewer.org.</b></div><div class=\"sk-container\" hidden><div class=\"sk-item\"><div class=\"sk-estimator sk-toggleable\"><input class=\"sk-toggleable__control sk-hidden--visually\" id=\"sk-estimator-id-4\" type=\"checkbox\" checked><label for=\"sk-estimator-id-4\" class=\"sk-toggleable__label sk-toggleable__label-arrow\">PassiveAggressiveClassifier</label><div class=\"sk-toggleable__content\"><pre>PassiveAggressiveClassifier(max_iter=50)</pre></div></div></div></div></div>"
            ]
          },
          "metadata": {},
          "execution_count": 47
        }
      ]
    },
    {
      "cell_type": "code",
      "source": [
        "# Fazer previsões no conjunto de teste\n",
        "y_pred = pac.predict(tfidf_test)\n",
        "\n",
        "# Calcular a acurácia do modelo\n",
        "score = accuracy_score(y_test, y_pred)\n",
        "print(f'Precisão do Passive Aggressive Classifier: {round(score*100,2)}%')"
      ],
      "metadata": {
        "id": "nK0lejAJjq5B",
        "colab": {
          "base_uri": "https://localhost:8080/"
        },
        "outputId": "d107ef4c-abd9-40e0-ab3f-d9c9dd7bcd51"
      },
      "execution_count": 48,
      "outputs": [
        {
          "output_type": "stream",
          "name": "stdout",
          "text": [
            "Precisão do Passive Aggressive Classifier: 99.3%\n"
          ]
        }
      ]
    },
    {
      "cell_type": "code",
      "source": [
        "# Gerar a matriz de confusão\n",
        "cf_matrix = confusion_matrix(y_test, y_pred, labels=['FAKE', 'REAL'])\n",
        "print(cf_matrix)"
      ],
      "metadata": {
        "id": "P2vm0SrQjzBe",
        "colab": {
          "base_uri": "https://localhost:8080/"
        },
        "outputId": "a71930a0-54d0-400c-cff7-911dab981d17"
      },
      "execution_count": 49,
      "outputs": [
        {
          "output_type": "stream",
          "name": "stdout",
          "text": [
            "[[7000   62]\n",
            " [  32 6376]]\n"
          ]
        }
      ]
    },
    {
      "cell_type": "code",
      "source": [
        "# Visualizar a matriz de confusão usando Seaborn\n",
        "ax = sns.heatmap(cf_matrix / np.sum(cf_matrix), annot=True, fmt='.2%', cmap='BuGn')\n",
        "ax.set_title('Matriz de Erro com Rótulos\\n\\n')\n",
        "ax.set_xlabel('\\nValores Esperados')\n",
        "ax.set_ylabel('Valores Reais')\n",
        "ax.xaxis.set_ticklabels(['Falsa', 'Real'])\n",
        "ax.yaxis.set_ticklabels(['Falsa', 'Real'])\n",
        "\n",
        "plt.show()"
      ],
      "metadata": {
        "colab": {
          "base_uri": "https://localhost:8080/",
          "height": 530
        },
        "id": "61wC0XXKeBou",
        "outputId": "8e752510-3871-443a-a9e1-99b889cf37a4"
      },
      "execution_count": 50,
      "outputs": [
        {
          "output_type": "display_data",
          "data": {
            "text/plain": [
              "<Figure size 640x480 with 2 Axes>"
            ],
            "image/png": "[encoded data removed]"
          },
          "metadata": {}
        }
      ]
    }
  ]
}